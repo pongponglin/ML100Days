{
 "cells": [
  {
   "cell_type": "markdown",
   "metadata": {
    "id": "oef8c2jr-PZY"
   },
   "source": [
    "作業目標<br>\n",
    "計算有缺失值的資料，統計量實作<br>\n",
    "作業重點<br>\n",
    "當遇到缺失值有函式可以處理，不須額外寫程式刪除<br>\n",
    "計算統計量時不能出現缺失值"
   ]
  },
  {
   "cell_type": "markdown",
   "metadata": {
    "id": "4YgL8NF4-Ru3"
   },
   "source": [
    "題目:<br>\n",
    "english_score = np.array([55,89,76,65,48,70])<br>\n",
    "math_score = np.array([60,85,60,68,np.nan,60])<br>\n",
    "chinese_score = np.array([65,90,82,72,66,77])<br>\n",
    "上3列共六位同學的英文、數學、國文成績，第一個元素代表第一位同學，舉例第一位同學英文55分、數學60分、國文65分，今天第五位同學因某原因沒來考試，導致數學成績缺值，運用上列數據回答下列問題。<br>\n",
    "1. 請計算各科成績平均、最大值、最小值、標準差，其中數學缺一筆資料可忽略?\n",
    "2. 第五位同學補考數學後成績為55，請計算補考後數學成績平均、最大值、最小值、標準差?\n",
    "3. 用補考後資料找出與國文成績相關係數最高的學科?"
   ]
  },
  {
   "cell_type": "code",
   "execution_count": 1,
   "metadata": {
    "executionInfo": {
     "elapsed": 617,
     "status": "ok",
     "timestamp": 1609854566856,
     "user": {
      "displayName": "献竤黃",
      "photoUrl": "",
      "userId": "07529243043474362942"
     },
     "user_tz": -480
    },
    "id": "QwsKU8qO-RK7"
   },
   "outputs": [],
   "source": [
    "import numpy as np"
   ]
  },
  {
   "cell_type": "code",
   "execution_count": 5,
   "metadata": {
    "executionInfo": {
     "elapsed": 1016,
     "status": "ok",
     "timestamp": 1609854567261,
     "user": {
      "displayName": "献竤黃",
      "photoUrl": "",
      "userId": "07529243043474362942"
     },
     "user_tz": -480
    },
    "id": "B5BqDQAe_czh"
   },
   "outputs": [],
   "source": [
    "english_score = np.array([55,89,76,65,48,70])\n",
    "math_score = np.array([60,85,60,68,np.nan,60])\n",
    "chinese_score = np.array([65,90,82,72,66,77])"
   ]
  },
  {
   "cell_type": "code",
   "execution_count": 28,
   "metadata": {
    "executionInfo": {
     "elapsed": 1005,
     "status": "ok",
     "timestamp": 1609854567262,
     "user": {
      "displayName": "献竤黃",
      "photoUrl": "",
      "userId": "07529243043474362942"
     },
     "user_tz": -480
    },
    "id": "K3tUA6u9aI3N"
   },
   "outputs": [
    {
     "name": "stdout",
     "output_type": "stream",
     "text": [
      "mean: [67.16666667 66.6        75.33333333]\n",
      "max: [89. 85. 90.]\n",
      "min: [48. 60. 65.]\n",
      "standard [13.43399502  9.70772888  8.8254682 ]\n"
     ]
    }
   ],
   "source": [
    "#1. 請計算各科成績平均、最大值、最小值、標準差，其中數學缺一筆資料可忽略?\n",
    "score = np.vstack((english_score, math_score, chinese_score))\n",
    "score\n",
    "print('mean:', np.nanmean(score, axis = 1))\n",
    "print('max:', np.nanmax(score, axis = 1))\n",
    "print('min:', np.nanmin(score, axis = 1))\n",
    "print('standard', np.nanstd(score, axis = 1))"
   ]
  },
  {
   "cell_type": "code",
   "execution_count": 32,
   "metadata": {
    "executionInfo": {
     "elapsed": 996,
     "status": "ok",
     "timestamp": 1609854567262,
     "user": {
      "displayName": "献竤黃",
      "photoUrl": "",
      "userId": "07529243043474362942"
     },
     "user_tz": -480
    },
    "id": "mXjDzvSrbLlf"
   },
   "outputs": [
    {
     "name": "stdout",
     "output_type": "stream",
     "text": [
      "mean: [67.16666667 64.66666667 75.33333333]\n",
      "max: [89. 85. 90.]\n",
      "min: [48. 55. 65.]\n",
      "standard [13.43399502  9.86013297  8.8254682 ]\n"
     ]
    }
   ],
   "source": [
    "#2. 第五位同學補考數學後成績為55，請計算補考後數學成績平均、最大值、最小值、標準差?\n",
    "score[1,4] = 55\n",
    "print('mean:', np.mean(score, axis = 1))\n",
    "print('max:', np.max(score, axis = 1))\n",
    "print('min:', np.min(score, axis = 1))\n",
    "print('standard', np.std(score, axis = 1))"
   ]
  },
  {
   "cell_type": "code",
   "execution_count": 31,
   "metadata": {},
   "outputs": [
    {
     "data": {
      "text/plain": [
       "array([[55., 89., 76., 65., 48., 70.],\n",
       "       [60., 85., 60., 68., 55., 60.],\n",
       "       [65., 90., 82., 72., 66., 77.]])"
      ]
     },
     "execution_count": 31,
     "metadata": {},
     "output_type": "execute_result"
    }
   ],
   "source": [
    "score"
   ]
  },
  {
   "cell_type": "code",
   "execution_count": 30,
   "metadata": {
    "executionInfo": {
     "elapsed": 989,
     "status": "ok",
     "timestamp": 1609854567264,
     "user": {
      "displayName": "献竤黃",
      "photoUrl": "",
      "userId": "07529243043474362942"
     },
     "user_tz": -480
    },
    "id": "SaGolKx0cKoU"
   },
   "outputs": [
    {
     "data": {
      "text/plain": [
       "array([[1.        , 0.7855563 , 0.97792828],\n",
       "       [0.7855563 , 1.        , 0.74056803],\n",
       "       [0.97792828, 0.74056803, 1.        ]])"
      ]
     },
     "execution_count": 30,
     "metadata": {},
     "output_type": "execute_result"
    }
   ],
   "source": [
    "#3. 用補考後資料找出與國文成績相關係數最高的學科?\n",
    "np.corrcoef(score)"
   ]
  },
  {
   "cell_type": "code",
   "execution_count": 37,
   "metadata": {
    "executionInfo": {
     "elapsed": 987,
     "status": "ok",
     "timestamp": 1609854567264,
     "user": {
      "displayName": "献竤黃",
      "photoUrl": "",
      "userId": "07529243043474362942"
     },
     "user_tz": -480
    },
    "id": "fTNlLZ9Pzyiy"
   },
   "outputs": [
    {
     "name": "stdout",
     "output_type": "stream",
     "text": [
      "[31055]\n",
      "[29616.]\n"
     ]
    }
   ],
   "source": [
    "math_score[4] = 55\n",
    "print(np.correlate(chinese_score, english_score))\n",
    "print(np.correlate(chinese_score, math_score))"
   ]
  },
  {
   "cell_type": "code",
   "execution_count": null,
   "metadata": {},
   "outputs": [],
   "source": []
  }
 ],
 "metadata": {
  "colab": {
   "authorship_tag": "ABX9TyPtywwDR7TsGGEOMGYLDT5h",
   "collapsed_sections": [],
   "name": "作業Hong題目.ipynb",
   "provenance": []
  },
  "kernelspec": {
   "display_name": "Python 3",
   "language": "python",
   "name": "python3"
  },
  "language_info": {
   "codemirror_mode": {
    "name": "ipython",
    "version": 3
   },
   "file_extension": ".py",
   "mimetype": "text/x-python",
   "name": "python",
   "nbconvert_exporter": "python",
   "pygments_lexer": "ipython3",
   "version": "3.8.5"
  }
 },
 "nbformat": 4,
 "nbformat_minor": 1
}
